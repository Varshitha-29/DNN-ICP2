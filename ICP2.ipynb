{
  "nbformat": 4,
  "nbformat_minor": 0,
  "metadata": {
    "colab": {
      "provenance": []
    },
    "kernelspec": {
      "name": "python3",
      "display_name": "Python 3"
    },
    "language_info": {
      "name": "python"
    }
  },
  "cells": [
    {
      "cell_type": "code",
      "source": [
        "#1.1\n",
        "first_name = \"Varshitha\"\n",
        "last_name = \"Reddy\"\n",
        "\n",
        "def fullName(first_name , last_name):\n",
        "  return first_name + \" \" + last_name\n",
        "\n",
        "print(fullName(first_name , last_name))\n",
        "\n",
        "#1.2\n",
        "str = \"Good Evening\"\n",
        "\n",
        "def string_alternative(string):\n",
        "\n",
        "  res = \"\"\n",
        "  for i in range(0,len(string),2):\n",
        "    res += string[i]\n",
        "  print(res)\n",
        "\n",
        "def main():\n",
        "  string_alternative(str)\n",
        "\n",
        "main()"
      ],
      "metadata": {
        "colab": {
          "base_uri": "https://localhost:8080/"
        },
        "id": "lo4m7VVml5_J",
        "outputId": "43278154-b229-4a8c-de2e-111115824ccd"
      },
      "execution_count": 19,
      "outputs": [
        {
          "output_type": "stream",
          "name": "stdout",
          "text": [
            "Varshitha Reddy\n",
            "Go vnn\n"
          ]
        }
      ]
    },
    {
      "cell_type": "code",
      "execution_count": 20,
      "metadata": {
        "colab": {
          "base_uri": "https://localhost:8080/"
        },
        "id": "jBp9zvzCgeMa",
        "outputId": "050f3d9b-0824-445d-c317-9a084d680dd4"
      },
      "outputs": [
        {
          "output_type": "stream",
          "name": "stdout",
          "text": [
            "Output written to output.txt\n"
          ]
        }
      ],
      "source": [
        "from collections import Counter\n",
        "with open('/content/drive/My Drive/input.txt', 'r') as input_file:\n",
        "    lines = input_file.readlines()\n",
        "\n",
        "output_lines = []\n",
        "list_of_words = []\n",
        "\n",
        "for line in lines:\n",
        "    line = line.strip()\n",
        "\n",
        "    list_of_words.extend(line.split(\" \"))\n",
        "\n",
        "\n",
        "element_count = Counter(list_of_words)\n",
        "\n",
        "for element, count in element_count.items():\n",
        "  output_lines.append(f\"{element} - Count: {count}\")\n",
        "\n",
        "with open('/content/drive/My Drive/output.txt', 'w') as output_file:\n",
        "    output_file.write(\"Python Course\" + '\\n')\n",
        "    output_file.write(\"Deep Learning Course\" + '\\n')\n",
        "    output_file.write(\"Word_Count:\" + '\\n')\n",
        "    for line in output_lines:\n",
        "        output_file.write(line + '\\n')\n",
        "\n",
        "print(\"Output written to output.txt\")"
      ]
    },
    {
      "cell_type": "code",
      "source": [
        "inchesList = list(map(int, input().split(\",\")))\n",
        "cmList = []\n",
        "cmList_comprehensions = []\n",
        "\n",
        "def inchToCm(inch):\n",
        "  return (inch * 2.54)\n",
        "\n",
        "# Nested Interactive loop\n",
        "for i in inchesList :\n",
        "    cmList.append(inchToCm(i))\n",
        "\n",
        "print (\"Nested Interactive loop : \\n\", cmList)\n",
        "\n",
        "# List Comprehension\n",
        "cmList_comprehensions = [inchToCm(inch) for inch in inchesList]\n",
        "\n",
        "\n",
        "print (\"List Comprehension : \\n\", cmList_comprehensions)"
      ],
      "metadata": {
        "colab": {
          "base_uri": "https://localhost:8080/"
        },
        "id": "eZqbq5nX70R5",
        "outputId": "f98d1dff-4287-4338-94ae-d15418baf369"
      },
      "execution_count": 21,
      "outputs": [
        {
          "output_type": "stream",
          "name": "stdout",
          "text": [
            "2,3,4\n",
            "Nested Interactive loop : \n",
            " [5.08, 7.62, 10.16]\n",
            "List Comprehension : \n",
            " [5.08, 7.62, 10.16]\n"
          ]
        }
      ]
    }
  ]
}